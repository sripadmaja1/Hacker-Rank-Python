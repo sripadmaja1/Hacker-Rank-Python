{
 "cells": [
  {
   "cell_type": "markdown",
   "id": "c8eecfa8",
   "metadata": {},
   "source": [
    "### List Comprehension"
   ]
  },
  {
   "cell_type": "code",
   "execution_count": null,
   "id": "1e879cd6",
   "metadata": {},
   "outputs": [],
   "source": [
    "if __name__ == '__main__':\n",
    "    x = int(input())\n",
    "    y = int(input())\n",
    "    z = int(input())\n",
    "    n = int(input())\n",
    "    print(list([i,j,k] for i in range(x+1) for j in range(y+1) for k in range(z+1)  if i+j+k !=n))"
   ]
  },
  {
   "cell_type": "markdown",
   "id": "feb9fdf7",
   "metadata": {},
   "source": [
    "### find the RUNNER-UP score"
   ]
  },
  {
   "cell_type": "code",
   "execution_count": null,
   "id": "c37a4d40",
   "metadata": {},
   "outputs": [],
   "source": [
    "\n",
    "if __name__ == '__main__':\n",
    "    n = int(input())\n",
    "    arr = map(int, input().split())\n",
    "    k=sorted(set(arr))\n",
    "    print(k[-2])"
   ]
  },
  {
   "cell_type": "markdown",
   "id": "781f3516",
   "metadata": {},
   "source": [
    "### nested list"
   ]
  },
  {
   "cell_type": "code",
   "execution_count": null,
   "id": "65d9740a",
   "metadata": {},
   "outputs": [],
   "source": [
    "if __name__ == '__main__':\n",
    "    Result =[]\n",
    "    scorelist = []\n",
    "\n",
    "    for _ in range(int(input())):\n",
    "        name = input()\n",
    "        score = float(input())\n",
    "        Result+=[[name,score]]\n",
    "        scorelist+=[score]\n",
    "    b=sorted(list(set(scorelist)))[1] \n",
    "\n",
    "    for name,score in sorted(Result):\n",
    "        if score==b:\n",
    "            print(name)"
   ]
  },
  {
   "cell_type": "markdown",
   "id": "5b151a88",
   "metadata": {},
   "source": [
    "### finding the percentage"
   ]
  },
  {
   "cell_type": "code",
   "execution_count": null,
   "id": "5a6769f9",
   "metadata": {},
   "outputs": [],
   "source": [
    "\n",
    "if __name__ == '__main__':\n",
    "    n = int(input())\n",
    "    student_marks = {}\n",
    "    for _ in range(n):\n",
    "        name, *line = input().split()\n",
    "        scores = list(map(float, line))\n",
    "        student_marks[name] = scores\n",
    "    query_name = input()\n",
    "    marks=student_marks[query_name]\n",
    "    print(format(sum(marks)/3.0,'.2f'))"
   ]
  },
  {
   "cell_type": "markdown",
   "id": "064648df",
   "metadata": {},
   "source": [
    "### lists"
   ]
  },
  {
   "cell_type": "code",
   "execution_count": null,
   "id": "08fc688c",
   "metadata": {},
   "outputs": [],
   "source": [
    "if __name__ == '__main__':\n",
    "    N = int(input())\n",
    "    inp_arr=[]\n",
    "    arr=[]\n",
    "    \n",
    "    for i in range(N):\n",
    "        x=input().split()\n",
    "        inp_arr.append(x)\n",
    "        \n",
    "    for i in range(len(inp_arr)):\n",
    "        if inp_arr[i][0]=='insert':\n",
    "            x=int(inp_arr[i][1])\n",
    "            y=int(inp_arr[i][2])\n",
    "            arr.insert(x,y)\n",
    "        \n",
    "        elif inp_arr[i][0]=='print':\n",
    "            print(arr)\n",
    "        elif inp_arr[i][0]=='sort':\n",
    "            arr.sort()\n",
    "        elif inp_arr[i][0]=='remove':\n",
    "            arr.remove(int(inp_arr[i][1]))\n",
    "        elif inp_arr[i][0]=='append':\n",
    "            arr.append(int(inp_arr[i][1]))\n",
    "        elif inp_arr[i][0]=='pop':\n",
    "            arr.pop()\n",
    "        elif inp_arr[i][0]=='reverse':\n",
    "            arr.reverse()"
   ]
  },
  {
   "cell_type": "markdown",
   "id": "595f81fc",
   "metadata": {},
   "source": [
    "### tuples"
   ]
  },
  {
   "cell_type": "code",
   "execution_count": null,
   "id": "9e0913bd",
   "metadata": {},
   "outputs": [],
   "source": [
    "if __name__ == '__main__':\n",
    "    n = int(input())\n",
    "    int_list = map(int, input().split())\n",
    "    t = tuple(int_list)\n",
    "    print(hash(t))"
   ]
  },
  {
   "cell_type": "markdown",
   "id": "2bcb2871",
   "metadata": {},
   "source": [
    "### introduction to sets"
   ]
  },
  {
   "cell_type": "code",
   "execution_count": null,
   "id": "3c77d2bb",
   "metadata": {},
   "outputs": [],
   "source": [
    "def average(arr):\n",
    "    # your code goes here\n",
    "    return sum(set(arr))/len(set(arr))\n",
    "\n",
    "if __name__ == '__main__':\n",
    "    n = int(input())\n",
    "    arr = list(map(int, input().split()))\n",
    "    result = average(arr)\n",
    "    print(result)"
   ]
  },
  {
   "cell_type": "markdown",
   "id": "074830c2",
   "metadata": {},
   "source": [
    "### set.add()"
   ]
  },
  {
   "cell_type": "code",
   "execution_count": null,
   "id": "2e3f8389",
   "metadata": {},
   "outputs": [],
   "source": [
    "n=int(input())\n",
    "a = set()\n",
    "for i in range(0,n):\n",
    "    a.add(input())\n",
    "print(len(a))"
   ]
  },
  {
   "cell_type": "markdown",
   "id": "dd13b850",
   "metadata": {},
   "source": [
    "### set.union()"
   ]
  },
  {
   "cell_type": "code",
   "execution_count": null,
   "id": "26bc3566",
   "metadata": {},
   "outputs": [],
   "source": [
    "len_a=int(input())\n",
    "a=list(input().split())\n",
    "a=set(a)\n",
    "len_b=int(input())\n",
    "b=list(input().split())\n",
    "b=set(b)\n",
    "print(len(a.union(b)))\n"
   ]
  },
  {
   "cell_type": "markdown",
   "id": "f774a911",
   "metadata": {},
   "source": [
    "### set.intersection()"
   ]
  },
  {
   "cell_type": "code",
   "execution_count": null,
   "id": "80922122",
   "metadata": {},
   "outputs": [],
   "source": [
    "len_a=int(input())\n",
    "a=list(input().split())\n",
    "a=set(a)\n",
    "len_b=int(input())\n",
    "b=list(input().split())\n",
    "b=set(b)\n",
    "print(len(a.intersection(b)))"
   ]
  },
  {
   "cell_type": "markdown",
   "id": "ad816aa3",
   "metadata": {},
   "source": [
    "### set discard(),remove(), pop()"
   ]
  },
  {
   "cell_type": "code",
   "execution_count": null,
   "id": "2106b983",
   "metadata": {},
   "outputs": [],
   "source": [
    "len_set = int(input())\n",
    "s = set(map(int, input().split()))\n",
    "commands=int(input())\n",
    "for i in range(commands):\n",
    "    c=input().split()\n",
    "    if c[0]=='discard':\n",
    "        s.discard(int(c[1]))\n",
    "    elif c[0]=='remove':\n",
    "        s.remove(int(c[1]))\n",
    "    else:\n",
    "        s.pop()\n",
    "print(sum(s))"
   ]
  },
  {
   "cell_type": "markdown",
   "id": "8f2b732c",
   "metadata": {},
   "source": [
    "### symmetric difference"
   ]
  },
  {
   "cell_type": "code",
   "execution_count": null,
   "id": "a3c643f8",
   "metadata": {},
   "outputs": [],
   "source": [
    "len_a = int(input())\n",
    "a = set(map(int, input().split()))\n",
    "len_b = int(input())\n",
    "b = set(map(int, input().split()))\n",
    "a1 = a.difference(b)\n",
    "b1 = b.difference(a)\n",
    "\n",
    "result = a1.union(b1)\n",
    "\n",
    "for i in sorted(list(result)):\n",
    "    print(i)"
   ]
  },
  {
   "cell_type": "markdown",
   "id": "4c2194be",
   "metadata": {},
   "source": [
    "### no idea"
   ]
  },
  {
   "cell_type": "code",
   "execution_count": null,
   "id": "9b88aa7e",
   "metadata": {},
   "outputs": [],
   "source": [
    "n,m=input().split()\n",
    "n_arr= input().split()\n",
    "happy=set(input().split())\n",
    "not_happy=set(input().split())\n",
    "count=0\n",
    "for i in n_arr:\n",
    "    if i in happy:\n",
    "        count+=1\n",
    "    elif i in not_happy:\n",
    "        count-=1\n",
    "        \n",
    "print(count)\n"
   ]
  },
  {
   "cell_type": "markdown",
   "id": "2c83ced6",
   "metadata": {},
   "source": [
    "### set mutation"
   ]
  },
  {
   "cell_type": "code",
   "execution_count": null,
   "id": "38aa35b6",
   "metadata": {},
   "outputs": [],
   "source": [
    "len_set = int(input())\n",
    "storage = set(map(int, input().split()))\n",
    "op_len = int(input())\n",
    "for i in range(op_len):\n",
    "    operation = input().split()\n",
    "    if operation[0] == 'intersection_update':\n",
    "        temp_storage = set(map(int, input().split()))\n",
    "        storage.intersection_update(temp_storage)\n",
    "    elif operation[0] == 'update':\n",
    "        temp_storage = set(map(int, input().split()))\n",
    "        storage.update(temp_storage)\n",
    "    elif operation[0] == 'symmetric_difference_update':\n",
    "        temp_storage = set(map(int, input().split()))\n",
    "        storage.symmetric_difference_update(temp_storage)\n",
    "    elif operation[0] == 'difference_update':\n",
    "        temp_storage = set(map(int, input().split()))\n",
    "        storage.difference_update(temp_storage)\n",
    "    else :\n",
    "        print('False')\n",
    "\n",
    "print(sum(storage))"
   ]
  },
  {
   "cell_type": "markdown",
   "id": "76941ec7",
   "metadata": {},
   "source": [
    "### captains room"
   ]
  },
  {
   "cell_type": "code",
   "execution_count": null,
   "id": "060ec93e",
   "metadata": {},
   "outputs": [],
   "source": [
    "k=int(input())\n",
    "lst_room=list(map(int,input().split()))\n",
    "fam_room=set()\n",
    "caps_room=set()\n",
    "for i in lst_room:\n",
    "    if i not in fam_room:\n",
    "        fam_room.add(i)\n",
    "        caps_room.add(i)\n",
    "    else:\n",
    "        caps_room.discard(i)\n",
    "\n",
    "print(list(caps_room)[0])"
   ]
  },
  {
   "cell_type": "markdown",
   "id": "68e9ee04",
   "metadata": {},
   "source": [
    "### check subset"
   ]
  },
  {
   "cell_type": "code",
   "execution_count": null,
   "id": "b6eea39d",
   "metadata": {},
   "outputs": [],
   "source": [
    "n=int(input())\n",
    "for i in range(0,n):\n",
    "    a = int(input())\n",
    "    set_a = set(map(int, input().split()))\n",
    "\n",
    "    b = int(input())\n",
    "    set_b = set(map(int, input().split()))\n",
    "\n",
    "    print(set_a.issubset(set_b))"
   ]
  },
  {
   "cell_type": "markdown",
   "id": "c6ba2431",
   "metadata": {},
   "source": [
    "### strict subset"
   ]
  },
  {
   "cell_type": "code",
   "execution_count": null,
   "id": "3e8cba64",
   "metadata": {},
   "outputs": [],
   "source": [
    "A = set(input().split())\n",
    "count, value = 0\n",
    "for i in range(int(input())):\n",
    "    if A.issuperset(set(input().split())):\n",
    "        count += 1\n",
    "    else:\n",
    "        value += 1\n",
    "if value == 0:\n",
    "    print('True')\n",
    "else:\n",
    "    print('False')"
   ]
  }
 ],
 "metadata": {
  "kernelspec": {
   "display_name": "Python 3 (ipykernel)",
   "language": "python",
   "name": "python3"
  },
  "language_info": {
   "codemirror_mode": {
    "name": "ipython",
    "version": 3
   },
   "file_extension": ".py",
   "mimetype": "text/x-python",
   "name": "python",
   "nbconvert_exporter": "python",
   "pygments_lexer": "ipython3",
   "version": "3.9.12"
  }
 },
 "nbformat": 4,
 "nbformat_minor": 5
}
