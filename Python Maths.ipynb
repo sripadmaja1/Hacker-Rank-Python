{
 "cells": [
  {
   "cell_type": "markdown",
   "id": "6a208458",
   "metadata": {},
   "source": [
    "### polar cordinates"
   ]
  },
  {
   "cell_type": "code",
   "execution_count": null,
   "id": "a6ca896e",
   "metadata": {},
   "outputs": [],
   "source": [
    "import cmath\n",
    "n=input()\n",
    "complex_n=complex(n)\n",
    "print(abs(complex_n))\n",
    "print(cmath.phase(complex_n))"
   ]
  },
  {
   "cell_type": "markdown",
   "id": "282305d8",
   "metadata": {},
   "source": [
    "### mod power"
   ]
  },
  {
   "cell_type": "code",
   "execution_count": null,
   "id": "b170e8a1",
   "metadata": {},
   "outputs": [],
   "source": [
    "a=int(input())\n",
    "b=int(input())\n",
    "m=int(input())\n",
    "print(pow(a,b),pow(a,b,m), sep='\\n')"
   ]
  },
  {
   "cell_type": "markdown",
   "id": "f1d2efe8",
   "metadata": {},
   "source": [
    "### mod power"
   ]
  },
  {
   "cell_type": "code",
   "execution_count": null,
   "id": "ebeccb55",
   "metadata": {},
   "outputs": [],
   "source": [
    "a=int(input())\n",
    "b=int(input())\n",
    "print(a//b,a%b,divmod(a,b), sep='\\n')"
   ]
  },
  {
   "cell_type": "markdown",
   "id": "0fe1c9a9",
   "metadata": {},
   "source": [
    "### integers come in all sizes"
   ]
  },
  {
   "cell_type": "code",
   "execution_count": null,
   "id": "94b53427",
   "metadata": {},
   "outputs": [],
   "source": [
    "a=int(input())\n",
    "b=int(input())\n",
    "c=int(input())\n",
    "d=int(input())\n",
    "print(pow(a,b)+pow(c,d))"
   ]
  },
  {
   "cell_type": "markdown",
   "id": "4c730311",
   "metadata": {},
   "source": [
    "### find angle MBC"
   ]
  },
  {
   "cell_type": "code",
   "execution_count": null,
   "id": "21bdd39c",
   "metadata": {},
   "outputs": [],
   "source": [
    "from math import atan, degrees\n",
    "AB = int(input())\n",
    "BC = int(input())\n",
    "\n",
    "angle = atan(AB/BC)\n",
    "print((round(degrees(angle))),chr(176),sep='')"
   ]
  },
  {
   "cell_type": "markdown",
   "id": "b8b65732",
   "metadata": {},
   "source": [
    "### triangle quest"
   ]
  },
  {
   "cell_type": "code",
   "execution_count": null,
   "id": "5a3dcb59",
   "metadata": {},
   "outputs": [],
   "source": [
    "for i in range(1,int(input())): \n",
    "    print(i*((10**i-1)//9))"
   ]
  },
  {
   "cell_type": "markdown",
   "id": "0e25a689",
   "metadata": {},
   "source": [
    "### triangle quest2"
   ]
  },
  {
   "cell_type": "code",
   "execution_count": null,
   "id": "af3b854e",
   "metadata": {},
   "outputs": [],
   "source": [
    "for i in range(1,int(input())+1): \n",
    "    print(((10**i-1)//9)**2)"
   ]
  }
 ],
 "metadata": {
  "kernelspec": {
   "display_name": "Python 3 (ipykernel)",
   "language": "python",
   "name": "python3"
  },
  "language_info": {
   "codemirror_mode": {
    "name": "ipython",
    "version": 3
   },
   "file_extension": ".py",
   "mimetype": "text/x-python",
   "name": "python",
   "nbconvert_exporter": "python",
   "pygments_lexer": "ipython3",
   "version": "3.9.12"
  }
 },
 "nbformat": 4,
 "nbformat_minor": 5
}
