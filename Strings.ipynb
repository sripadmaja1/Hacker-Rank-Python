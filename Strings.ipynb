{
 "cells": [
  {
   "cell_type": "markdown",
   "id": "a380d4fe",
   "metadata": {},
   "source": [
    "### SwAp CaSeS"
   ]
  },
  {
   "cell_type": "code",
   "execution_count": null,
   "id": "3cb34bfa",
   "metadata": {},
   "outputs": [],
   "source": [
    "def swap_case(s):\n",
    "    return s.swapcase()\n",
    "\n",
    "if __name__ == '__main__':\n",
    "    s = input()\n",
    "    result = swap_case(s)\n",
    "    print(result)"
   ]
  },
  {
   "cell_type": "markdown",
   "id": "708d55cd",
   "metadata": {},
   "source": [
    "### split and join"
   ]
  },
  {
   "cell_type": "code",
   "execution_count": null,
   "id": "d80c6f16",
   "metadata": {},
   "outputs": [],
   "source": [
    "def split_and_join(line):\n",
    "    result=line.split(\" \")\n",
    "    result=\"-\".join(result)\n",
    "    return result\n",
    "\n",
    "if __name__ == '__main__':\n",
    "    line = input()\n",
    "    result = split_and_join(line)\n",
    "    print(result)"
   ]
  },
  {
   "cell_type": "markdown",
   "id": "e5df26f0",
   "metadata": {},
   "source": [
    "### what's your name?"
   ]
  },
  {
   "cell_type": "code",
   "execution_count": null,
   "id": "8c0ded3a",
   "metadata": {},
   "outputs": [],
   "source": [
    "def print_full_name(first, last):\n",
    "    # Write your code here\n",
    "    print('Hello '+first+' '+last+'! You just delved into python.')\n",
    "\n",
    "if __name__ == '__main__':\n",
    "    first_name = input()\n",
    "    last_name = input()\n",
    "    print_full_name(first_name, last_name)"
   ]
  },
  {
   "cell_type": "markdown",
   "id": "c97dd7ee",
   "metadata": {},
   "source": [
    "### Mutations"
   ]
  },
  {
   "cell_type": "code",
   "execution_count": null,
   "id": "e56870f9",
   "metadata": {},
   "outputs": [],
   "source": [
    "def mutate_string(string, position, character):\n",
    "    lst=list(string)\n",
    "    lst[position]=character\n",
    "    string=''.join(lst)\n",
    "    return string\n",
    "\n",
    "if __name__ == '__main__':\n",
    "    s = input()\n",
    "    i, c = input().split()\n",
    "    s_new = mutate_string(s, int(i), c)\n",
    "    print(s_new)"
   ]
  },
  {
   "cell_type": "markdown",
   "id": "d79c47d0",
   "metadata": {},
   "source": [
    "### Find a string"
   ]
  },
  {
   "cell_type": "code",
   "execution_count": null,
   "id": "06ee190b",
   "metadata": {},
   "outputs": [],
   "source": [
    "def count_substring(string, sub_string):\n",
    "    count = 0\n",
    "    for i in range(len(string)):\n",
    "        if string[i] == sub_string[0]:\n",
    "            if string[i:i + len(sub_string)] == sub_string:\n",
    "                count += 1\n",
    "    return count\n",
    "\n",
    "if __name__ == '__main__':\n",
    "    string = input().strip()\n",
    "    sub_string = input().strip()\n",
    "    \n",
    "    count = count_substring(string, sub_string)\n",
    "    print(count)"
   ]
  },
  {
   "cell_type": "markdown",
   "id": "f6410e19",
   "metadata": {},
   "source": [
    "### String validators"
   ]
  },
  {
   "cell_type": "code",
   "execution_count": null,
   "id": "84f52aff",
   "metadata": {},
   "outputs": [],
   "source": [
    "if __name__ == '__main__':\n",
    "    s = input()\n",
    "    print(any(i.isalnum() for i in s))\n",
    "    print(any(i.isalpha() for i in s))\n",
    "    print(any(i.isdigit() for i in s))\n",
    "    print(any(i.islower() for i in s))\n",
    "    print(any(i.isupper() for i in s))\n"
   ]
  },
  {
   "cell_type": "markdown",
   "id": "b1c7cc86",
   "metadata": {},
   "source": [
    "### Text Alignment"
   ]
  },
  {
   "cell_type": "code",
   "execution_count": null,
   "id": "daf51ff8",
   "metadata": {},
   "outputs": [],
   "source": [
    "thickness = int(input()) #This must be an odd number\n",
    "c = 'H'\n",
    "\n",
    "#Top Cone\n",
    "for i in range(thickness):\n",
    "    print((c*i).rjust(thickness-1)+c+(c*i).ljust(thickness-1))\n",
    "\n",
    "#Top Pillars\n",
    "for i in range(thickness+1):\n",
    "    print((c*thickness).center(thickness*2)+(c*thickness).center(thickness*6))\n",
    "\n",
    "#Middle Belt\n",
    "for i in range((thickness+1)//2):\n",
    "    print((c*thickness*5).center(thickness*6))    \n",
    "\n",
    "#Bottom Pillars\n",
    "for i in range(thickness+1):\n",
    "    print((c*thickness).center(thickness*2)+(c*thickness).center(thickness*6))    \n",
    "\n",
    "#Bottom Cone\n",
    "for i in range(thickness):\n",
    "    print(((c*(thickness-i-1)).rjust(thickness)+c+(c*(thickness-i-1)).ljust(thickness)).rjust(thickness*6))"
   ]
  },
  {
   "cell_type": "markdown",
   "id": "89d24dd0",
   "metadata": {},
   "source": [
    "### Text Wrap"
   ]
  },
  {
   "cell_type": "code",
   "execution_count": null,
   "id": "dba2131c",
   "metadata": {},
   "outputs": [],
   "source": [
    "import textwrap\n",
    "def wrap(string, max_width):\n",
    "    return textwrap.fill(string,max_width)\n",
    "\n",
    "if __name__ == '__main__':\n",
    "    string, max_width = input(), int(input())\n",
    "    result = wrap(string, max_width)\n",
    "    print(result)"
   ]
  },
  {
   "cell_type": "markdown",
   "id": "66ed671e",
   "metadata": {},
   "source": [
    "### capitalize"
   ]
  },
  {
   "cell_type": "code",
   "execution_count": null,
   "id": "bc58cdec",
   "metadata": {},
   "outputs": [],
   "source": [
    "def solve(s):\n",
    "    s=s.split(' ')\n",
    "    a1=(i.capitalize() for i in s)\n",
    "    return ' '.join(a1)\n",
    "    \n",
    "        \n",
    "if __name__ == '__main__':\n",
    "    fptr = open(os.environ['OUTPUT_PATH'], 'w')\n",
    "\n",
    "    s = input()\n",
    "\n",
    "    result = solve(s)\n",
    "\n",
    "    fptr.write(result + '\\n')\n",
    "\n",
    "    fptr.close()"
   ]
  },
  {
   "cell_type": "markdown",
   "id": "2d338b7f",
   "metadata": {},
   "source": [
    "### String Formatting"
   ]
  },
  {
   "cell_type": "code",
   "execution_count": null,
   "id": "40208d2a",
   "metadata": {},
   "outputs": [],
   "source": [
    "def print_formatted(number):\n",
    "    width = len(bin(number)) - 2\n",
    "    for i in range(1,number+1):\n",
    "        print (\"{0:{width}d} {0:{width}o} {0:{width}X} {0:{width}b}\".format(i,width = width))\n",
    "\n",
    "\n",
    "\n",
    "if __name__ == '__main__':\n",
    "    n = int(input())\n",
    "    print_formatted(n)"
   ]
  },
  {
   "cell_type": "markdown",
   "id": "89615eed",
   "metadata": {},
   "source": [
    "### Door Mat"
   ]
  },
  {
   "cell_type": "code",
   "execution_count": null,
   "id": "b98d55d8",
   "metadata": {},
   "outputs": [],
   "source": [
    "n,m=map(int,input().split())\n",
    "for i in range(n//2):\n",
    "    j=int(((2*i)+1))\n",
    "    print(('.|.'*j).center(m, '-'))\n",
    "print('WELCOME'.center(m,'-'))\n",
    "for i in reversed(range(n//2)):\n",
    "    j=int(((2*i)+1))\n",
    "    print(('.|.'*j).center(m, '-'))\n",
    "    "
   ]
  },
  {
   "cell_type": "markdown",
   "id": "5d80b2da",
   "metadata": {},
   "source": [
    "### alphabet rangoli"
   ]
  },
  {
   "cell_type": "code",
   "execution_count": null,
   "id": "175505bd",
   "metadata": {},
   "outputs": [],
   "source": [
    "def print_rangoli(size):\n",
    "    # your code goes here\n",
    "    alphabet='abcdefghijklmnopqrstuvwxyz'\n",
    "    lines = []\n",
    "    for row in range(size):\n",
    "        print_ = \"-\".join(alphabet[row:size])\n",
    "        lines.append(print_[::-1] + print_[1:])\n",
    "    width = len(lines[0])\n",
    "    for row in range(size-1, 0, -1):\n",
    "        print(lines[row].center(width, '-'))\n",
    "        \n",
    "    for row in range(size):\n",
    "        print(lines[row].center(width, '-'))\n",
    "    \n",
    "\n",
    "if __name__ == '__main__':\n",
    "    n = int(input())\n",
    "    print_rangoli(n)"
   ]
  },
  {
   "cell_type": "markdown",
   "id": "08f5cd65",
   "metadata": {},
   "source": [
    "### The Minion Game"
   ]
  },
  {
   "cell_type": "code",
   "execution_count": null,
   "id": "df64527a",
   "metadata": {},
   "outputs": [],
   "source": [
    "def minion_game(string):\n",
    "    # your code goes here\n",
    "    vowels='AEIOU'\n",
    "    kevin_score=0\n",
    "    stuart_score=0\n",
    "    len_str=len(string)\n",
    "    for i in range(len_str):\n",
    "        if string[i] in vowels:\n",
    "            kevin_score+=len_str-i\n",
    "        else:\n",
    "            stuart_score+=len_str-i\n",
    "    if stuart_score>kevin_score:\n",
    "        print('Stuart',stuart_score)\n",
    "    elif kevin_score>stuart_score:\n",
    "        print('Kevin',kevin_score)\n",
    "    else:\n",
    "        print('Draw')\n",
    "        \n",
    "            \n",
    "\n",
    "if __name__ == '__main__':\n",
    "    s = input()\n",
    "    minion_game(s)"
   ]
  },
  {
   "cell_type": "markdown",
   "id": "4bf3c01e",
   "metadata": {},
   "source": [
    "### Merge the tool"
   ]
  },
  {
   "cell_type": "code",
   "execution_count": null,
   "id": "3d0072e5",
   "metadata": {},
   "outputs": [],
   "source": [
    "from collections import OrderedDict\n",
    "def merge_the_tools(string, k):\n",
    "    i = 0\n",
    "    while i < len(string):\n",
    "        word1 = \"\".join(OrderedDict.fromkeys(string[i: i+k]))      \n",
    "        print(word1)\n",
    "        i = i + k\n",
    "if __name__ == '__main__':\n",
    "    string, k = input(), int(input())\n",
    "    merge_the_tools(string, k)"
   ]
  }
 ],
 "metadata": {
  "kernelspec": {
   "display_name": "Python 3 (ipykernel)",
   "language": "python",
   "name": "python3"
  },
  "language_info": {
   "codemirror_mode": {
    "name": "ipython",
    "version": 3
   },
   "file_extension": ".py",
   "mimetype": "text/x-python",
   "name": "python",
   "nbconvert_exporter": "python",
   "pygments_lexer": "ipython3",
   "version": "3.9.12"
  }
 },
 "nbformat": 4,
 "nbformat_minor": 5
}
